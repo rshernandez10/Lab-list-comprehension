{
  "nbformat": 4,
  "nbformat_minor": 0,
  "metadata": {
    "kernelspec": {
      "display_name": "Python 3",
      "language": "python",
      "name": "python3"
    },
    "language_info": {
      "codemirror_mode": {
        "name": "ipython",
        "version": 3
      },
      "file_extension": ".py",
      "mimetype": "text/x-python",
      "name": "python",
      "nbconvert_exporter": "python",
      "pygments_lexer": "ipython3",
      "version": "3.7.0"
    },
    "colab": {
      "name": "main.ipynb",
      "provenance": [],
      "collapsed_sections": []
    }
  },
  "cells": [
    {
      "cell_type": "markdown",
      "metadata": {
        "id": "aEc1yGyWmiFU",
        "colab_type": "text"
      },
      "source": [
        "# List Comprehensions Lab\n",
        "\n",
        "Complete the following set of exercises to solidify your knowledge of list comprehensions."
      ]
    },
    {
      "cell_type": "code",
      "metadata": {
        "id": "GvDDw1u1miFV",
        "colab_type": "code",
        "colab": {}
      },
      "source": [
        "import os\n",
        "import numpy as np\n",
        "import pandas as pd"
      ],
      "execution_count": 0,
      "outputs": []
    },
    {
      "cell_type": "markdown",
      "metadata": {
        "id": "HdIkiFZLmiFZ",
        "colab_type": "text"
      },
      "source": [
        "### 1. Use a list comprehension to create and print a list of consecutive integers starting with 1 and ending with 50."
      ]
    },
    {
      "cell_type": "code",
      "metadata": {
        "id": "Yh-a6srRmiFa",
        "colab_type": "code",
        "outputId": "878a050b-a86a-4f17-ee41-6d6344bb9fbb",
        "colab": {
          "base_uri": "https://localhost:8080/",
          "height": 54
        }
      },
      "source": [
        "numeros = [i for i in range(51) if i >= 1]\n",
        "\n",
        "print(numeros)"
      ],
      "execution_count": 73,
      "outputs": [
        {
          "output_type": "stream",
          "text": [
            "[1, 2, 3, 4, 5, 6, 7, 8, 9, 10, 11, 12, 13, 14, 15, 16, 17, 18, 19, 20, 21, 22, 23, 24, 25, 26, 27, 28, 29, 30, 31, 32, 33, 34, 35, 36, 37, 38, 39, 40, 41, 42, 43, 44, 45, 46, 47, 48, 49, 50]\n"
          ],
          "name": "stdout"
        }
      ]
    },
    {
      "cell_type": "markdown",
      "metadata": {
        "id": "zPD-x4fnmiFc",
        "colab_type": "text"
      },
      "source": [
        "### 2. Use a list comprehension to create and print a list of even numbers starting with 2 and ending with 200."
      ]
    },
    {
      "cell_type": "code",
      "metadata": {
        "id": "RZ56gSxWmiFd",
        "colab_type": "code",
        "colab": {
          "base_uri": "https://localhost:8080/",
          "height": 54
        },
        "outputId": "aa95667f-1e2b-48ed-c7a6-a48f85477ffa"
      },
      "source": [
        "print( [n+1 for n in range(2, 201) if n % 2] )"
      ],
      "execution_count": 74,
      "outputs": [
        {
          "output_type": "stream",
          "text": [
            "[4, 6, 8, 10, 12, 14, 16, 18, 20, 22, 24, 26, 28, 30, 32, 34, 36, 38, 40, 42, 44, 46, 48, 50, 52, 54, 56, 58, 60, 62, 64, 66, 68, 70, 72, 74, 76, 78, 80, 82, 84, 86, 88, 90, 92, 94, 96, 98, 100, 102, 104, 106, 108, 110, 112, 114, 116, 118, 120, 122, 124, 126, 128, 130, 132, 134, 136, 138, 140, 142, 144, 146, 148, 150, 152, 154, 156, 158, 160, 162, 164, 166, 168, 170, 172, 174, 176, 178, 180, 182, 184, 186, 188, 190, 192, 194, 196, 198, 200]\n"
          ],
          "name": "stdout"
        }
      ]
    },
    {
      "cell_type": "markdown",
      "metadata": {
        "id": "Qcdh4dSrmiFg",
        "colab_type": "text"
      },
      "source": [
        "### 3. Use a list comprehension to create and print a list containing all elements of the 10 x 4 Numpy array below."
      ]
    },
    {
      "cell_type": "code",
      "metadata": {
        "id": "swr6QfJpmiFh",
        "colab_type": "code",
        "colab": {}
      },
      "source": [
        "a = np.array([[0.84062117, 0.48006452, 0.7876326 , 0.77109654],\n",
        "       [0.44409793, 0.09014516, 0.81835917, 0.87645456],\n",
        "       [0.7066597 , 0.09610873, 0.41247947, 0.57433389],\n",
        "       [0.29960807, 0.42315023, 0.34452557, 0.4751035 ],\n",
        "       [0.17003563, 0.46843998, 0.92796258, 0.69814654],\n",
        "       [0.41290051, 0.19561071, 0.16284783, 0.97016248],\n",
        "       [0.71725408, 0.87702738, 0.31244595, 0.76615487],\n",
        "       [0.20754036, 0.57871812, 0.07214068, 0.40356048],\n",
        "       [0.12149553, 0.53222417, 0.9976855 , 0.12536346],\n",
        "       [0.80930099, 0.50962849, 0.94555126, 0.33364763]])"
      ],
      "execution_count": 0,
      "outputs": []
    },
    {
      "cell_type": "code",
      "metadata": {
        "id": "fO3Y6Vo2miFj",
        "colab_type": "code",
        "colab": {
          "base_uri": "https://localhost:8080/",
          "height": 54
        },
        "outputId": "19b82027-36eb-46bb-caa6-db4ec799b188"
      },
      "source": [
        "lista=[element for i in range(len(a)) for element in a[i]]\n",
        "print(lista)\n",
        "\n",
        "#for i in range(len(a)):\n",
        " # for element in a[i]:\n",
        "  #  lista.append(element)\n"
      ],
      "execution_count": 34,
      "outputs": [
        {
          "output_type": "stream",
          "text": [
            "[0.84062117, 0.48006452, 0.7876326, 0.77109654, 0.44409793, 0.09014516, 0.81835917, 0.87645456, 0.7066597, 0.09610873, 0.41247947, 0.57433389, 0.29960807, 0.42315023, 0.34452557, 0.4751035, 0.17003563, 0.46843998, 0.92796258, 0.69814654, 0.41290051, 0.19561071, 0.16284783, 0.97016248, 0.71725408, 0.87702738, 0.31244595, 0.76615487, 0.20754036, 0.57871812, 0.07214068, 0.40356048, 0.12149553, 0.53222417, 0.9976855, 0.12536346, 0.80930099, 0.50962849, 0.94555126, 0.33364763]\n"
          ],
          "name": "stdout"
        }
      ]
    },
    {
      "cell_type": "markdown",
      "metadata": {
        "id": "VVEF6jgCmiFm",
        "colab_type": "text"
      },
      "source": [
        "### 4. Add a condition to the list comprehension above so that only values \n",
        "\n",
        "*   Elemento de lista\n",
        "*   Elemento de lista\n",
        "\n",
        "greater than or equal to 0.5 are printed."
      ]
    },
    {
      "cell_type": "code",
      "metadata": {
        "id": "hlMlU4JzmiFm",
        "colab_type": "code",
        "colab": {
          "base_uri": "https://localhost:8080/",
          "height": 54
        },
        "outputId": "e5babe7e-136f-467e-c5d5-35645edd26a7"
      },
      "source": [
        "lista1=[element for i in range(len(a)) for element in a[i]]\n",
        "print(lista1)"
      ],
      "execution_count": 35,
      "outputs": [
        {
          "output_type": "stream",
          "text": [
            "[0.84062117, 0.48006452, 0.7876326, 0.77109654, 0.44409793, 0.09014516, 0.81835917, 0.87645456, 0.7066597, 0.09610873, 0.41247947, 0.57433389, 0.29960807, 0.42315023, 0.34452557, 0.4751035, 0.17003563, 0.46843998, 0.92796258, 0.69814654, 0.41290051, 0.19561071, 0.16284783, 0.97016248, 0.71725408, 0.87702738, 0.31244595, 0.76615487, 0.20754036, 0.57871812, 0.07214068, 0.40356048, 0.12149553, 0.53222417, 0.9976855, 0.12536346, 0.80930099, 0.50962849, 0.94555126, 0.33364763]\n"
          ],
          "name": "stdout"
        }
      ]
    },
    {
      "cell_type": "markdown",
      "metadata": {
        "id": "f85Oq5L1miFp",
        "colab_type": "text"
      },
      "source": [
        "### 5. Use a list comprehension to create and print a list containing all \n",
        "\n",
        "*   Elemento de lista\n",
        "*   Elemento de lista\n",
        "\n",
        "elements of the 5 x 2 x 3 Numpy array below."
      ]
    },
    {
      "cell_type": "code",
      "metadata": {
        "id": "n54vKimhmiFp",
        "colab_type": "code",
        "colab": {}
      },
      "source": [
        "b = np.array([[[0.55867166, 0.06210792, 0.08147297],\n",
        "        [0.82579068, 0.91512478, 0.06833034]],\n",
        "\n",
        "       [[0.05440634, 0.65857693, 0.30296619],\n",
        "        [0.06769833, 0.96031863, 0.51293743]],\n",
        "\n",
        "       [[0.09143215, 0.71893382, 0.45850679],\n",
        "        [0.58256464, 0.59005654, 0.56266457]],\n",
        "\n",
        "       [[0.71600294, 0.87392666, 0.11434044],\n",
        "        [0.8694668 , 0.65669313, 0.10708681]],\n",
        "\n",
        "       [[0.07529684, 0.46470767, 0.47984544],\n",
        "        [0.65368638, 0.14901286, 0.23760688]]])"
      ],
      "execution_count": 0,
      "outputs": []
    },
    {
      "cell_type": "code",
      "metadata": {
        "id": "3gADOOrTmiFs",
        "colab_type": "code",
        "outputId": "4469eef7-02a2-44eb-d21b-18158dc700fd",
        "colab": {
          "base_uri": "https://localhost:8080/",
          "height": 54
        }
      },
      "source": [
        "lista3=[element for i in range(len(b)) for element in b[i]]\n",
        "print(lista3)"
      ],
      "execution_count": 37,
      "outputs": [
        {
          "output_type": "stream",
          "text": [
            "[array([0.55867166, 0.06210792, 0.08147297]), array([0.82579068, 0.91512478, 0.06833034]), array([0.05440634, 0.65857693, 0.30296619]), array([0.06769833, 0.96031863, 0.51293743]), array([0.09143215, 0.71893382, 0.45850679]), array([0.58256464, 0.59005654, 0.56266457]), array([0.71600294, 0.87392666, 0.11434044]), array([0.8694668 , 0.65669313, 0.10708681]), array([0.07529684, 0.46470767, 0.47984544]), array([0.65368638, 0.14901286, 0.23760688])]\n"
          ],
          "name": "stdout"
        }
      ]
    },
    {
      "cell_type": "markdown",
      "metadata": {
        "id": "iYPQrkCMmiFv",
        "colab_type": "text"
      },
      "source": [
        "### 5. Add a condition to the list comprehension above so that the last value in each subarray is printed, but only if it is less than or equal to 0.5."
      ]
    },
    {
      "cell_type": "code",
      "metadata": {
        "id": "FEe8a6U1miFw",
        "colab_type": "code",
        "colab": {}
      },
      "source": [
        ""
      ],
      "execution_count": 0,
      "outputs": []
    },
    {
      "cell_type": "markdown",
      "metadata": {
        "id": "1Wnak8himiFy",
        "colab_type": "text"
      },
      "source": [
        "### 6. Use a list comprehension to select and print the names of all CSV files in the */data* directory."
      ]
    },
    {
      "cell_type": "code",
      "metadata": {
        "id": "Ku40lr2jmiFz",
        "colab_type": "code",
        "colab": {
          "base_uri": "https://localhost:8080/",
          "height": 34
        },
        "outputId": "ffc80443-ce4e-4c05-ecd5-6d04046804bd"
      },
      "source": [
        "from glob import glob\n",
        "PATH = r\"C:\\Users\\rsher\\Lab-list-comprehension\\lab-list-comprehensions\\data\"\n",
        "EXT = \"*.csv\"\n",
        "all_csv_files = [file\n",
        "                 for path, subdir, files in os.walk(PATH)\n",
        "                 for file in glob(os.path.join(path, EXT))]\n",
        "print(all_csv_files)\n"
      ],
      "execution_count": 82,
      "outputs": [
        {
          "output_type": "stream",
          "text": [
            "[]\n"
          ],
          "name": "stdout"
        }
      ]
    },
    {
      "cell_type": "markdown",
      "metadata": {
        "id": "8w1GOOlvmiF4",
        "colab_type": "text"
      },
      "source": [
        "### 7. Use a list comprehension and the Pandas `read_csv` and `concat` methods to read all CSV files in the */data* directory and combine them into a single data frame. Display the top 10 rows of the resulting data frame."
      ]
    },
    {
      "cell_type": "code",
      "metadata": {
        "id": "XRu8Ur1XmiF5",
        "colab_type": "code",
        "colab": {}
      },
      "source": [
        ""
      ],
      "execution_count": 0,
      "outputs": []
    },
    {
      "cell_type": "markdown",
      "metadata": {
        "id": "RbIPBRx9miF7",
        "colab_type": "text"
      },
      "source": [
        "### 8. Use a list comprehension to select and print the column numbers for columns from the data set whose median is less than 0.48."
      ]
    },
    {
      "cell_type": "code",
      "metadata": {
        "id": "5EghrhLGmiF7",
        "colab_type": "code",
        "colab": {}
      },
      "source": [
        ""
      ],
      "execution_count": 0,
      "outputs": []
    },
    {
      "cell_type": "markdown",
      "metadata": {
        "id": "P648fPDFmiF9",
        "colab_type": "text"
      },
      "source": [
        "### 9. Use a list comprehension to add a new column (20) to the data frame whose values are the values in column 19 minus 0.1. Display the top 10 rows of the resulting data frame."
      ]
    },
    {
      "cell_type": "code",
      "metadata": {
        "id": "hEN_Cbq3miF9",
        "colab_type": "code",
        "colab": {}
      },
      "source": [
        ""
      ],
      "execution_count": 0,
      "outputs": []
    },
    {
      "cell_type": "markdown",
      "metadata": {
        "id": "WElOH82-miGA",
        "colab_type": "text"
      },
      "source": [
        "### 10. Use a list comprehension to extract and print all values from the data set that are between 0.7 and 0.75."
      ]
    },
    {
      "cell_type": "code",
      "metadata": {
        "id": "eWmSVNAwmiGB",
        "colab_type": "code",
        "colab": {}
      },
      "source": [
        ""
      ],
      "execution_count": 0,
      "outputs": []
    }
  ]
}